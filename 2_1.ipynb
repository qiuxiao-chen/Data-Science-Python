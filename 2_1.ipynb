{
 "cells": [
  {
   "cell_type": "code",
   "execution_count": 3,
   "id": "07d91a1c-7cf8-4501-a5c3-c209ab99bcd7",
   "metadata": {},
   "outputs": [
    {
     "ename": "ModuleNotFoundError",
     "evalue": "No module named 'seaborn'",
     "output_type": "error",
     "traceback": [
      "\u001b[0;31m---------------------------------------------------------------------------\u001b[0m",
      "\u001b[0;31mModuleNotFoundError\u001b[0m                       Traceback (most recent call last)",
      "Cell \u001b[0;32mIn[3], line 2\u001b[0m\n\u001b[1;32m      1\u001b[0m \u001b[38;5;66;03m# Import seaborn library\u001b[39;00m\n\u001b[0;32m----> 2\u001b[0m \u001b[38;5;28;01mimport\u001b[39;00m \u001b[38;5;21;01mseaborn\u001b[39;00m \u001b[38;5;28;01mas\u001b[39;00m \u001b[38;5;21;01msns\u001b[39;00m\n\u001b[1;32m      4\u001b[0m \u001b[38;5;66;03m# Load the miles per gallon dataset and assign the dataset to mpg\u001b[39;00m\n\u001b[1;32m      5\u001b[0m mpg \u001b[38;5;241m=\u001b[39m sns\u001b[38;5;241m.\u001b[39mload_dataset(\u001b[38;5;124m'\u001b[39m\u001b[38;5;124mmpg\u001b[39m\u001b[38;5;124m'\u001b[39m)\n",
      "\u001b[0;31mModuleNotFoundError\u001b[0m: No module named 'seaborn'"
     ]
    }
   ],
   "source": [
    "# Import seaborn library\n",
    "import seaborn as sns\n",
    "\n",
    "# Load the miles per gallon dataset and assign the dataset to mpg\n",
    "mpg = sns.load_dataset('mpg')\n",
    "\n",
    "# View the dataset (by default, the first and last five rows are displayed)\n",
    "mpg"
   ]
  },
  {
   "cell_type": "code",
   "execution_count": null,
   "id": "f84e4680-05e1-48af-bd18-5fd0b100ce76",
   "metadata": {},
   "outputs": [],
   "source": [
    "# Make a scatter plot with weight on the x-axis and miles per gallon on the y-axis\n",
    "sns.scatterplot(data=mpg, x='weight', y='mpg', hue='cylinders')"
   ]
  },
  {
   "cell_type": "code",
   "execution_count": null,
   "id": "b113f204-b7fa-4ed3-ab13-d4a190c5bc0f",
   "metadata": {},
   "outputs": [],
   "source": [
    "# This is a code cell\n",
    "# In Python, hashtags are used to write comments, or text \n",
    "# It's good practice to use comments to write notes above a function or command"
   ]
  },
  {
   "cell_type": "markdown",
   "id": "d2356d69-3427-4fb1-9253-97b11bf67f1c",
   "metadata": {},
   "source": [
    "# This is a heading\n",
    "\n",
    "This is a text cell. Data scientists use text cells in a Jupyter notebook to write comments about a dataset or notes about  findings. Double click this Markdown cell to change the text, and click Run to format the text.\n",
    "\n",
    "## This is a smaller heading\n",
    "\n",
    "Text cells can contain:\n",
    "\n",
    "- Bulleted lists\n",
    "- Like this\n",
    "\n",
    "Or\n",
    "\n",
    "1. Numbered lists\n",
    "2. Like this"
   ]
  },
  {
   "cell_type": "code",
   "execution_count": null,
   "id": "faca8272-c711-418e-9777-49ce6bb4d4e5",
   "metadata": {},
   "outputs": [],
   "source": [
    "# Calculate summary statistics for the weight feature\n",
    "mpg['weight'].describe()"
   ]
  }
 ],
 "metadata": {
  "kernelspec": {
   "display_name": "Python 3 (ipykernel)",
   "language": "python",
   "name": "python3"
  },
  "language_info": {
   "codemirror_mode": {
    "name": "ipython",
    "version": 3
   },
   "file_extension": ".py",
   "mimetype": "text/x-python",
   "name": "python",
   "nbconvert_exporter": "python",
   "pygments_lexer": "ipython3",
   "version": "3.9.6"
  }
 },
 "nbformat": 4,
 "nbformat_minor": 5
}
